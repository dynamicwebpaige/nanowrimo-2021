{
  "nbformat": 4,
  "nbformat_minor": 0,
  "metadata": {
    "colab": {
      "name": "18_I_really_love_scikit-learn.ipynb",
      "provenance": []
    },
    "kernelspec": {
      "name": "python3",
      "display_name": "Python 3"
    },
    "language_info": {
      "name": "python"
    }
  },
  "cells": [
    {
      "cell_type": "code",
      "metadata": {
        "id": "HB_Glb4XDnui"
      },
      "source": [
        "import pandas as pd \n",
        "from sklearn.preprocessing import MultiLabelBinarizer"
      ],
      "execution_count": 36,
      "outputs": []
    },
    {
      "cell_type": "code",
      "metadata": {
        "id": "2HiwCCBYD-nX"
      },
      "source": [
        "# initialize list of lists\n",
        "data =  [ \n",
        "         ['Notebook 1', 33, ['fastai', 'pytorch', 'transformers']], \n",
        "         ['Notebook 2', 25, ['numpy', 'matplotlib']], \n",
        "         ['Notebook 3', 42, ['numpy', 'scipy']],\n",
        "         ['Notebook 4', 12, ['matplotlib', 'numpy', 'scipy', 'scikit-learn', 'seaborn', 'pytorch']]\n",
        "        ] "
      ],
      "execution_count": 44,
      "outputs": []
    },
    {
      "cell_type": "code",
      "metadata": {
        "id": "GhSIeeTmFlpu"
      },
      "source": [
        "df = pd.DataFrame(data, columns=['Notebook Name', 'Cells', 'Libraries'])"
      ],
      "execution_count": 45,
      "outputs": []
    },
    {
      "cell_type": "code",
      "metadata": {
        "colab": {
          "base_uri": "https://localhost:8080/",
          "height": 174
        },
        "id": "_rVZ7MOfFp2S",
        "outputId": "a8c5498d-59a9-486a-dd15-d5aa06475098"
      },
      "source": [
        "df"
      ],
      "execution_count": 46,
      "outputs": [
        {
          "output_type": "execute_result",
          "data": {
            "text/html": [
              "<div>\n",
              "<style scoped>\n",
              "    .dataframe tbody tr th:only-of-type {\n",
              "        vertical-align: middle;\n",
              "    }\n",
              "\n",
              "    .dataframe tbody tr th {\n",
              "        vertical-align: top;\n",
              "    }\n",
              "\n",
              "    .dataframe thead th {\n",
              "        text-align: right;\n",
              "    }\n",
              "</style>\n",
              "<table border=\"1\" class=\"dataframe\">\n",
              "  <thead>\n",
              "    <tr style=\"text-align: right;\">\n",
              "      <th></th>\n",
              "      <th>Notebook Name</th>\n",
              "      <th>Cells</th>\n",
              "      <th>Libraries</th>\n",
              "    </tr>\n",
              "  </thead>\n",
              "  <tbody>\n",
              "    <tr>\n",
              "      <th>0</th>\n",
              "      <td>Notebook 1</td>\n",
              "      <td>33</td>\n",
              "      <td>[fastai, pytorch, transformers]</td>\n",
              "    </tr>\n",
              "    <tr>\n",
              "      <th>1</th>\n",
              "      <td>Notebook 2</td>\n",
              "      <td>25</td>\n",
              "      <td>[numpy, matplotlib]</td>\n",
              "    </tr>\n",
              "    <tr>\n",
              "      <th>2</th>\n",
              "      <td>Notebook 3</td>\n",
              "      <td>42</td>\n",
              "      <td>[numpy, scipy]</td>\n",
              "    </tr>\n",
              "    <tr>\n",
              "      <th>3</th>\n",
              "      <td>Notebook 4</td>\n",
              "      <td>12</td>\n",
              "      <td>[matplotlib, numpy, scipy, scikit-learn, seabo...</td>\n",
              "    </tr>\n",
              "  </tbody>\n",
              "</table>\n",
              "</div>"
            ],
            "text/plain": [
              "  Notebook Name  Cells                                          Libraries\n",
              "0    Notebook 1     33                    [fastai, pytorch, transformers]\n",
              "1    Notebook 2     25                                [numpy, matplotlib]\n",
              "2    Notebook 3     42                                     [numpy, scipy]\n",
              "3    Notebook 4     12  [matplotlib, numpy, scipy, scikit-learn, seabo..."
            ]
          },
          "metadata": {},
          "execution_count": 46
        }
      ]
    },
    {
      "cell_type": "code",
      "metadata": {
        "id": "TXJuNtECGN7W"
      },
      "source": [
        "mlb = MultiLabelBinarizer()\n",
        "df = df.join(pd.DataFrame(mlb.fit_transform(df.pop('Libraries')),\n",
        "                          columns=mlb.classes_,\n",
        "                          index=df.index))"
      ],
      "execution_count": 47,
      "outputs": []
    },
    {
      "cell_type": "code",
      "metadata": {
        "colab": {
          "base_uri": "https://localhost:8080/",
          "height": 174
        },
        "id": "kM7ZEjkhGgWz",
        "outputId": "fb04cd9f-8c75-4105-8951-0eadb39b6e68"
      },
      "source": [
        "df"
      ],
      "execution_count": 48,
      "outputs": [
        {
          "output_type": "execute_result",
          "data": {
            "text/html": [
              "<div>\n",
              "<style scoped>\n",
              "    .dataframe tbody tr th:only-of-type {\n",
              "        vertical-align: middle;\n",
              "    }\n",
              "\n",
              "    .dataframe tbody tr th {\n",
              "        vertical-align: top;\n",
              "    }\n",
              "\n",
              "    .dataframe thead th {\n",
              "        text-align: right;\n",
              "    }\n",
              "</style>\n",
              "<table border=\"1\" class=\"dataframe\">\n",
              "  <thead>\n",
              "    <tr style=\"text-align: right;\">\n",
              "      <th></th>\n",
              "      <th>Notebook Name</th>\n",
              "      <th>Cells</th>\n",
              "      <th>fastai</th>\n",
              "      <th>matplotlib</th>\n",
              "      <th>numpy</th>\n",
              "      <th>pytorch</th>\n",
              "      <th>scikit-learn</th>\n",
              "      <th>scipy</th>\n",
              "      <th>seaborn</th>\n",
              "      <th>transformers</th>\n",
              "    </tr>\n",
              "  </thead>\n",
              "  <tbody>\n",
              "    <tr>\n",
              "      <th>0</th>\n",
              "      <td>Notebook 1</td>\n",
              "      <td>33</td>\n",
              "      <td>1</td>\n",
              "      <td>0</td>\n",
              "      <td>0</td>\n",
              "      <td>1</td>\n",
              "      <td>0</td>\n",
              "      <td>0</td>\n",
              "      <td>0</td>\n",
              "      <td>1</td>\n",
              "    </tr>\n",
              "    <tr>\n",
              "      <th>1</th>\n",
              "      <td>Notebook 2</td>\n",
              "      <td>25</td>\n",
              "      <td>0</td>\n",
              "      <td>1</td>\n",
              "      <td>1</td>\n",
              "      <td>0</td>\n",
              "      <td>0</td>\n",
              "      <td>0</td>\n",
              "      <td>0</td>\n",
              "      <td>0</td>\n",
              "    </tr>\n",
              "    <tr>\n",
              "      <th>2</th>\n",
              "      <td>Notebook 3</td>\n",
              "      <td>42</td>\n",
              "      <td>0</td>\n",
              "      <td>0</td>\n",
              "      <td>1</td>\n",
              "      <td>0</td>\n",
              "      <td>0</td>\n",
              "      <td>1</td>\n",
              "      <td>0</td>\n",
              "      <td>0</td>\n",
              "    </tr>\n",
              "    <tr>\n",
              "      <th>3</th>\n",
              "      <td>Notebook 4</td>\n",
              "      <td>12</td>\n",
              "      <td>0</td>\n",
              "      <td>1</td>\n",
              "      <td>1</td>\n",
              "      <td>1</td>\n",
              "      <td>1</td>\n",
              "      <td>1</td>\n",
              "      <td>1</td>\n",
              "      <td>0</td>\n",
              "    </tr>\n",
              "  </tbody>\n",
              "</table>\n",
              "</div>"
            ],
            "text/plain": [
              "  Notebook Name  Cells  fastai  ...  scipy  seaborn  transformers\n",
              "0    Notebook 1     33       1  ...      0        0             1\n",
              "1    Notebook 2     25       0  ...      0        0             0\n",
              "2    Notebook 3     42       0  ...      1        0             0\n",
              "3    Notebook 4     12       0  ...      1        1             0\n",
              "\n",
              "[4 rows x 10 columns]"
            ]
          },
          "metadata": {},
          "execution_count": 48
        }
      ]
    },
    {
      "cell_type": "code",
      "metadata": {
        "id": "pbQQy58GIVfM"
      },
      "source": [
        ""
      ],
      "execution_count": null,
      "outputs": []
    }
  ]
}