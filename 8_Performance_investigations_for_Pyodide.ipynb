{
 "cells": [
  {
   "cell_type": "markdown",
   "metadata": {},
   "source": [
    "# Performance investigation: Pyodide\n",
    "\n",
    "References: \n",
    "* [https://gist.github.com/rth/c71fe792eb56fb271317e35e08576c7a#results]()\n",
    "* [https://github.com/pyodide/pyodide/tree/main/benchmark/benchmarks]()\n",
    "\n",
    "![](https://pbs.twimg.com/media/FDum1WfUUAADPMx?format=png&name=medium)\n",
    "\n",
    "[_Norman-Nielsen Group_](https://www.nngroup.com/articles/response-times-3-important-limits/)"
   ]
  },
  {
   "cell_type": "code",
   "execution_count": null,
   "metadata": {},
   "outputs": [
    {
     "name": "stdout",
     "output_type": "stream",
     "text": [
      "Wall time: 2.48 s\n"
     ]
    }
   ],
   "source": [
    "import numpy as np\n",
    "from time import time\n",
    "\n",
    "N = 1000\n",
    "X = np.random.RandomState(0).rand(N, N)\n",
    "t0 = time()\n",
    "X.dot(X)\n",
    "print(f'Wall time: {time() - t0:.2f} s')"
   ]
  },
  {
   "cell_type": "code",
   "execution_count": null,
   "metadata": {},
   "outputs": [],
   "source": [
    "import numpy as np\n",
    "\n",
    "\n",
    "def allpairs_distances(A, B):\n",
    "    \"\"\"This returns the euclidean distances squared\n",
    "    dist2(x, y) = dot(x, x) - 2 * dot(x, y) + dot(y, y)\n",
    "    \"\"\"\n",
    "    A2 = np.einsum(\"ij,ij->i\", A, A)\n",
    "    B2 = np.einsum(\"ij,ij->i\", B, B)\n",
    "    return A2[:, None] + B2[None, :] - 2 * np.dot(A, B.T)"
   ]
  },
  {
   "cell_type": "code",
   "execution_count": null,
   "metadata": {},
   "outputs": [],
   "source": [
    "import numpy as np\n",
    "\n",
    "\n",
    "def allpairs_distances_loops(X, Y):\n",
    "    result = np.zeros((X.shape[0], Y.shape[0]), X.dtype)\n",
    "    for i in range(X.shape[0]):\n",
    "        for j in range(Y.shape[0]):\n",
    "            result[i, j] = np.sum((X[i, :] - Y[j, :]) ** 2)\n",
    "    return result"
   ]
  },
  {
   "cell_type": "code",
   "execution_count": null,
   "metadata": {},
   "outputs": [],
   "source": [
    "import numpy as np\n",
    "\n",
    "\n",
    "def arc_distance(theta_1, phi_1, theta_2, phi_2):\n",
    "    \"\"\"\n",
    "    Calculates the pairwise arc distance between all points in vector a and b.\n",
    "    \"\"\"\n",
    "    temp = (\n",
    "        np.sin((theta_2 - theta_1) / 2) ** 2\n",
    "        + np.cos(theta_1) * np.cos(theta_2) * np.sin((phi_2 - phi_1) / 2) ** 2\n",
    "    )\n",
    "    distance_matrix = 2 * (np.arctan2(np.sqrt(temp), np.sqrt(1 - temp)))\n",
    "    return distance_matrix"
   ]
  },
  {
   "cell_type": "code",
   "execution_count": null,
   "metadata": {},
   "outputs": [],
   "source": [
    "import numpy as np\n",
    "\n",
    "\n",
    "def check_mask(db, mask=[1, 0, 1]):\n",
    "    out = np.zeros(db.shape[0], dtype=bool)\n",
    "    for idx, line in enumerate(db):\n",
    "        target, vector = line[0], line[1:]\n",
    "        if (mask == np.bitwise_and(mask, vector)).all():\n",
    "            if target == 1:\n",
    "                out[idx] = 1\n",
    "    return out"
   ]
  },
  {
   "cell_type": "code",
   "execution_count": null,
   "metadata": {},
   "outputs": [],
   "source": [
    "import numpy as np\n",
    "\n",
    "\n",
    "def create_grid(x):\n",
    "    N = x.shape[0]\n",
    "    z = np.zeros((N, N, 3))\n",
    "    z[:, :, 0] = x.reshape(-1, 1)\n",
    "    z[:, :, 1] = x\n",
    "    fast_grid = z.reshape(N * N, 3)\n",
    "    return fast_grid"
   ]
  },
  {
   "cell_type": "code",
   "execution_count": null,
   "metadata": {},
   "outputs": [],
   "source": [
    "def cronbach(itemscores):\n",
    "    itemvars = itemscores.var(axis=1, ddof=1)\n",
    "    tscores = itemscores.sum(axis=0)\n",
    "    nitems = len(itemscores)\n",
    "    return nitems / (nitems - 1) * (1 - itemvars.sum() / tscores.var(ddof=1))"
   ]
  },
  {
   "cell_type": "code",
   "execution_count": null,
   "metadata": {},
   "outputs": [],
   "source": [
    "def diffusion(u, tempU, iterNum):\n",
    "    \"\"\"\n",
    "    Apply Numpy matrix for the Forward-Euler Approximation\n",
    "    \"\"\"\n",
    "    mu = 0.1\n",
    "\n",
    "    for n in range(iterNum):\n",
    "        tempU[1:-1, 1:-1] = u[1:-1, 1:-1] + mu * (\n",
    "            u[2:, 1:-1]\n",
    "            - 2 * u[1:-1, 1:-1]\n",
    "            + u[0:-2, 1:-1]\n",
    "            + u[1:-1, 2:]\n",
    "            - 2 * u[1:-1, 1:-1]\n",
    "            + u[1:-1, 0:-2]\n",
    "        )\n",
    "        u[:, :] = tempU[:, :]\n",
    "        tempU[:, :] = 0.0"
   ]
  },
  {
   "cell_type": "code",
   "execution_count": null,
   "metadata": {},
   "outputs": [],
   "source": [
    "import numpy as np\n",
    "\n",
    "\n",
    "def laplacian(grid):\n",
    "    return (\n",
    "        np.roll(grid, +1, 0)\n",
    "        + np.roll(grid, -1, 0)\n",
    "        + np.roll(grid, +1, 1)\n",
    "        + np.roll(grid, -1, 1)\n",
    "        - 4 * grid\n",
    "    )\n",
    "\n",
    "\n",
    "def evolve(grid, dt, D=1):\n",
    "    return grid + dt * D * laplacian(grid)"
   ]
  },
  {
   "cell_type": "code",
   "execution_count": null,
   "metadata": {},
   "outputs": [],
   "source": [
    "import numpy as np\n",
    "\n",
    "\n",
    "def fdtd(input_grid, steps):\n",
    "    grid = input_grid.copy()\n",
    "    old_grid = np.zeros_like(input_grid)\n",
    "    previous_grid = np.zeros_like(input_grid)\n",
    "\n",
    "    l_x = grid.shape[0]\n",
    "    l_y = grid.shape[1]\n",
    "\n",
    "    for i in range(steps):\n",
    "        np.copyto(previous_grid, old_grid)\n",
    "        np.copyto(old_grid, grid)\n",
    "\n",
    "        for x in range(l_x):\n",
    "            for y in range(l_y):\n",
    "                grid[x, y] = 0.0\n",
    "                if 0 < x + 1 < l_x:\n",
    "                    grid[x, y] += old_grid[x + 1, y]\n",
    "                if 0 < x - 1 < l_x:\n",
    "                    grid[x, y] += old_grid[x - 1, y]\n",
    "                if 0 < y + 1 < l_y:\n",
    "                    grid[x, y] += old_grid[x, y + 1]\n",
    "                if 0 < y - 1 < l_y:\n",
    "                    grid[x, y] += old_grid[x, y - 1]\n",
    "\n",
    "                grid[x, y] /= 2.0\n",
    "                grid[x, y] -= previous_grid[x, y]\n",
    "\n",
    "    return grid"
   ]
  },
  {
   "cell_type": "code",
   "execution_count": null,
   "metadata": {},
   "outputs": [],
   "source": [
    "import numpy as np\n",
    "\n",
    "\n",
    "def fft(x):\n",
    "    return np.fft(x)"
   ]
  },
  {
   "cell_type": "code",
   "execution_count": null,
   "metadata": {},
   "outputs": [],
   "source": [
    "import numpy as np\n",
    "\n",
    "\n",
    "def grayscott(counts, Du, Dv, F, k):\n",
    "    n = 100\n",
    "    U = np.zeros((n + 2, n + 2), dtype=np.float32)\n",
    "    V = np.zeros((n + 2, n + 2), dtype=np.float32)\n",
    "    u, v = U[1:-1, 1:-1], V[1:-1, 1:-1]\n",
    "\n",
    "    r = 20\n",
    "    u[:] = 1.0\n",
    "    U[n // 2 - r : n // 2 + r, n // 2 - r : n // 2 + r] = 0.50\n",
    "    V[n // 2 - r : n // 2 + r, n // 2 - r : n // 2 + r] = 0.25\n",
    "    u += 0.15 * np.random.random((n, n))\n",
    "    v += 0.15 * np.random.random((n, n))\n",
    "\n",
    "    for i in range(counts):\n",
    "        Lu = (\n",
    "            U[0:-2, 1:-1]\n",
    "            + U[1:-1, 0:-2]\n",
    "            - 4 * U[1:-1, 1:-1]\n",
    "            + U[1:-1, 2:]\n",
    "            + U[2:, 1:-1]\n",
    "        )\n",
    "        Lv = (\n",
    "            V[0:-2, 1:-1]\n",
    "            + V[1:-1, 0:-2]\n",
    "            - 4 * V[1:-1, 1:-1]\n",
    "            + V[1:-1, 2:]\n",
    "            + V[2:, 1:-1]\n",
    "        )\n",
    "        uvv = u * v * v\n",
    "        u += Du * Lu - uvv + F * (1 - u)\n",
    "        v += Dv * Lv + uvv - (F + k) * v\n",
    "\n",
    "    return V"
   ]
  },
  {
   "cell_type": "code",
   "execution_count": null,
   "metadata": {},
   "outputs": [],
   "source": []
  }
 ],
 "metadata": {
  "language_info": {
   "name": "python"
  },
  "orig_nbformat": 4
 },
 "nbformat": 4,
 "nbformat_minor": 2
}
