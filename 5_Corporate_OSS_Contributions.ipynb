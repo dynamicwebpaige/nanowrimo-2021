{
 "cells": [
  {
   "cell_type": "markdown",
   "metadata": {},
   "source": [
    "# EDA: Enterprise-Driven Open-Source Software Projects \n",
    "\n",
    "This notebook analyzes [a dataset of 17,264 open source GitHub software projects](https://zenodo.org/record/3742962#.YYXasGLMKUk) that are developed primarily by enterprises, rather than a community of volunteers. This dataset can be used to address known generalizability concerns around OSS provenance, licensing, and properties; and, also, to perform research on open source business software development. \n",
    "\n",
    "As shown in these data, enterprise OSS projects are staffed by a plurality of enterprise employees, who appear to be pulling more than their weight. In a small percentage of relatively large enterprise open-source software projects, development happens *exclusively* through enterprise insiders.\n",
    "\n",
    "The main dataset is provided as a 17,264 record tab-separated file named `enterprise_projects.txt` with the following 29 fields:\n",
    "\n",
    "* url: the project's GitHub URL\n",
    "* project_id: the project's GHTorrent identifier\n",
    "* sdtc: true if selected using the same domain top committers heuristic (9,016 records)\n",
    "* mcpc: true if selected using the multiple committers from a valid enterprise heuristic (8,314 records)\n",
    "* mcve: true if selected using the multiple committers from a probable company heuristic (8,015 records),\n",
    "* star_number: number of GitHub watchers\n",
    "* commit_count: number of commits\n",
    "* files: number of files in current main branch\n",
    "* lines: corresponding number of lines in text files\n",
    "* pull_requests: number of pull requests\n",
    "* github_repo_creation: timestamp of the GitHub repository creation\n",
    "* earliest_commit: timestamp of the earliest commit\n",
    "* most_recent_commit: date of the most recent commit\n",
    "* committer_count: number of different committers\n",
    "* author_count: number of different authors\n",
    "* dominant_domain: the projects dominant email domain\n",
    "* dominant_domain_committer_commits: number of commits made by committers whose email matches the project's dominant domain\n",
    "* dominant_domain_author_commits: corresponding number for commit authors\n",
    "* dominant_domain_committers: number of committers whose email matches the project's dominant domain\n",
    "* dominant_domain_authors: corresponding number for commit authors\n",
    "* cik: SEC's EDGAR \"central index key\"\n",
    "* fg500: true if this is a Fortune Global 500 company (2,233 records)\n",
    "* sec10k: true if the company files SEC 10-K forms (4,180 records)\n",
    "* sec20f: true if the company files SEC 20-F forms (429 records)\n",
    "* project_name: GitHub project name\n",
    "* owner_login: GitHub project's owner login\n",
    "* company_name: company name as derived from the SEC and Fortune 500 data\n",
    "* owner_company: GitHub project's owner company name\n",
    "* license: SPDX license identifier\n",
    "\n",
    "The file `cohost_project_details.txt` provides the full set of 311,223 cohort projects that are **not** part of the enterprise data set, but have comparable quality attributes.\n",
    "\n",
    "* url: the project's GitHub URL\n",
    "* project_id: the project's GHTorrent identifier\n",
    "* stars: number of GitHub watchers\n",
    "* commit_count: number of commits"
   ]
  },
  {
   "cell_type": "markdown",
   "metadata": {},
   "source": [
    "# Importing the dataset"
   ]
  },
  {
   "cell_type": "code",
   "execution_count": null,
   "metadata": {},
   "outputs": [],
   "source": [
    "import pyodide\n",
    "import pandas as pd\n",
    "import shutil"
   ]
  },
  {
   "cell_type": "code",
   "execution_count": null,
   "metadata": {},
   "outputs": [
    {
     "ename": "<class 'JsException'>",
     "evalue": "NetworkError: Failed to execute 'send' on 'XMLHttpRequest': Failed to load 'https://zenodo.org/record/3742962/files/enterprise-oss.tar.gz'.",
     "output_type": "error",
     "traceback": [
      "\u001b[0;31m---------------------------------------------------------------------------\u001b[0m",
      "\u001b[0;31mJsException\u001b[0m                               Traceback (most recent call last)",
      "\u001b[0;32m<ipython-input-4-051699784b2a>\u001b[0m in \u001b[0;36m<module>\u001b[0;34m\u001b[0m\n\u001b[0;32m----> 1\u001b[0;31m \u001b[0;32mawait\u001b[0m \u001b[0mpyodide\u001b[0m\u001b[0;34m.\u001b[0m\u001b[0mopen_url\u001b[0m\u001b[0;34m(\u001b[0m\u001b[0;34m\"https://zenodo.org/record/3742962/files/enterprise-oss.tar.gz\"\u001b[0m\u001b[0;34m)\u001b[0m\u001b[0;34m\u001b[0m\u001b[0;34m\u001b[0m\u001b[0m\n\u001b[0m",
      "\u001b[0;32m/lib/python3.9/site-packages/pyodide/_util.py\u001b[0m in \u001b[0;36mopen_url\u001b[0;34m(url)\u001b[0m\n\u001b[1;32m     24\u001b[0m     \u001b[0mreq\u001b[0m \u001b[0;34m=\u001b[0m \u001b[0mXMLHttpRequest\u001b[0m\u001b[0;34m.\u001b[0m\u001b[0mnew\u001b[0m\u001b[0;34m(\u001b[0m\u001b[0;34m)\u001b[0m\u001b[0;34m\u001b[0m\u001b[0;34m\u001b[0m\u001b[0m\n\u001b[1;32m     25\u001b[0m     \u001b[0mreq\u001b[0m\u001b[0;34m.\u001b[0m\u001b[0mopen\u001b[0m\u001b[0;34m(\u001b[0m\u001b[0;34m\"GET\"\u001b[0m\u001b[0;34m,\u001b[0m \u001b[0murl\u001b[0m\u001b[0;34m,\u001b[0m \u001b[0;32mFalse\u001b[0m\u001b[0;34m)\u001b[0m\u001b[0;34m\u001b[0m\u001b[0;34m\u001b[0m\u001b[0m\n\u001b[0;32m---> 26\u001b[0;31m     \u001b[0mreq\u001b[0m\u001b[0;34m.\u001b[0m\u001b[0msend\u001b[0m\u001b[0;34m(\u001b[0m\u001b[0;32mNone\u001b[0m\u001b[0;34m)\u001b[0m\u001b[0;34m\u001b[0m\u001b[0;34m\u001b[0m\u001b[0m\n\u001b[0m\u001b[1;32m     27\u001b[0m     \u001b[0;32mreturn\u001b[0m \u001b[0mStringIO\u001b[0m\u001b[0;34m(\u001b[0m\u001b[0mreq\u001b[0m\u001b[0;34m.\u001b[0m\u001b[0mresponse\u001b[0m\u001b[0;34m)\u001b[0m\u001b[0;34m\u001b[0m\u001b[0;34m\u001b[0m\u001b[0m\n",
      "\u001b[0;32m???.js\u001b[0m in \u001b[0;36m<javascript frames>\u001b[0;34m()\u001b[0m\n",
      "\u001b[0;31mJsException\u001b[0m: NetworkError: Failed to execute 'send' on 'XMLHttpRequest': Failed to load 'https://zenodo.org/record/3742962/files/enterprise-oss.tar.gz'."
     ]
    }
   ],
   "source": [
    "await pyodide.open_url(\"https://zenodo.org/record/3742962/files/enterprise-oss.tar.gz\")"
   ]
  },
  {
   "cell_type": "markdown",
   "metadata": {},
   "source": []
  }
 ],
 "metadata": {
  "language_info": {
   "name": "python"
  },
  "orig_nbformat": 4
 },
 "nbformat": 4,
 "nbformat_minor": 2
}
