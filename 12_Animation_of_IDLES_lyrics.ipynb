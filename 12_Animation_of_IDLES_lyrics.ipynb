{
 "cells": [
  {
   "cell_type": "markdown",
   "metadata": {},
   "source": [
    "# Animation of IDLES lyrics\n",
    "## _In celebration of the world's best band_\n",
    "### ...and of their release today, of _Crawler_"
   ]
  },
  {
   "cell_type": "code",
   "execution_count": null,
   "metadata": {},
   "outputs": [],
   "source": [
    "import os\n",
    "import time\n",
    "\n",
    "def animate_text(text):\n",
    "  numberOfCharacters=1\n",
    "  while True:\n",
    "    print(\"\\n\")\n",
    "    print(text[0:numberOfCharacters])\n",
    "    numberOfCharacters += 1\n",
    "    if numberOfCharacters > len(text):\n",
    "      numberOfCharacters = 0\n",
    "    time.sleep(0.2)\n",
    "    os.system('clear')  \n",
    "  \n",
    "  animate_text(\"Hello World!\")\n",
    "\n",
    "  ## File an issue, as this doesn't work."
   ]
  },
  {
   "cell_type": "code",
   "execution_count": null,
   "metadata": {},
   "outputs": [
    {
     "data": {
      "text/html": [
       "<marquee style='width: 30%; height: 80%; color: magenta;'><b>I want to be loved</b></marquee>\n",
       "\n",
       "<! –– Size of text is not preserved. -->\n"
      ],
      "text/plain": [
       "<IPython.core.display.HTML object>"
      ]
     },
     "metadata": {},
     "output_type": "display_data"
    }
   ],
   "source": [
    "%%html\n",
    "<marquee style='width: 30%; height: 80%; color: magenta;'><b>I want to be loved</b></marquee>\n",
    "\n",
    "<! –– Size of text is not preserved. -->"
   ]
  },
  {
   "cell_type": "code",
   "execution_count": null,
   "metadata": {},
   "outputs": [
    {
     "data": {
      "text/html": [
       "<marquee direction=\"down\" width=\"350\" height=\"150\" behavior=\"alternate\" style=\"border:solid\">\r\n",
       "  <marquee behavior=\"alternate\">\r\n",
       "    <i>Everybody does.</i>\r\n",
       "  </marquee>\r\n",
       "</marquee>\n"
      ],
      "text/plain": [
       "<IPython.core.display.HTML object>"
      ]
     },
     "metadata": {},
     "output_type": "display_data"
    }
   ],
   "source": [
    "%%html\n",
    "<marquee direction=\"down\" width=\"350\" height=\"150\" behavior=\"alternate\" style=\"border:solid\">\n",
    "  <marquee behavior=\"alternate\">\n",
    "    <i>Everybody does.</i>\n",
    "  </marquee>\n",
    "</marquee>"
   ]
  },
  {
   "cell_type": "code",
   "execution_count": null,
   "metadata": {},
   "outputs": [
    {
     "data": {
      "text/html": [
       "\r\n",
       "<marquee style='width: 30%; color: gray;'>\r\n",
       "<b>I find shame in the crack-like corpse<br>\r\n",
       "Un-cadaver reign<br><br><br>\r\n",
       "&emsp;&emsp;&emsp;&emsp;&emsp;<i>We made it.</i><br></b></marquee>\r\n"
      ],
      "text/plain": [
       "<IPython.core.display.HTML object>"
      ]
     },
     "metadata": {},
     "output_type": "display_data"
    }
   ],
   "source": [
    "%%html\n",
    "\n",
    "<marquee style='width: 30%; color: gray;'>\n",
    "<b>I find shame in the crack-like corpse<br>\n",
    "Un-cadaver reign<br><br><br>\n",
    "&emsp;&emsp;&emsp;&emsp;&emsp;<i>We made it.</i><br></b></marquee>\n"
   ]
  },
  {
   "cell_type": "code",
   "execution_count": null,
   "metadata": {},
   "outputs": [],
   "source": []
  }
 ],
 "metadata": {
  "language_info": {
   "name": "python"
  },
  "orig_nbformat": 4
 },
 "nbformat": 4,
 "nbformat_minor": 2
}
