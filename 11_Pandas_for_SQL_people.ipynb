{
 "cells": [
  {
   "cell_type": "markdown",
   "metadata": {},
   "source": [
    "# Comparison between SQL, Kusto, and Pandas\n",
    "\n",
    "| Category\t| SQL Query\t| Kusto Query |\n",
    "| --- | --- | --- |\n",
    "| Select data from table |\t`SELECT * FROM dependencies` |\t`dependencies` |"
   ]
  },
  {
   "cell_type": "code",
   "execution_count": null,
   "metadata": {},
   "outputs": [],
   "source": [
    "# Import the pandas library.\n",
    "import pandas as pd \n"
   ]
  }
 ],
 "metadata": {
  "language_info": {
   "name": "python"
  },
  "orig_nbformat": 4
 },
 "nbformat": 4,
 "nbformat_minor": 2
}
